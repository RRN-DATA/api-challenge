{
 "cells": [
  {
   "cell_type": "markdown",
   "metadata": {},
   "source": [
    "# VacationPy\n",
    "----\n",
    "\n",
    "#### Note\n",
    "* Instructions have been included for each segment. You do not have to follow them exactly, but they are included to help you think through the steps."
   ]
  },
  {
   "cell_type": "code",
   "execution_count": 8,
   "metadata": {},
   "outputs": [],
   "source": [
    "# Dependencies and Setup\n",
    "import matplotlib.pyplot as plt\n",
    "import pandas as pd\n",
    "import numpy as np\n",
    "import requests\n",
    "import gmaps\n",
    "import os\n",
    "import json\n",
    "from pandas.io.json import json_normalize\n",
    "from pprint import pprint\n",
    "\n",
    "# Import API key\n",
    "from api_keys import g_key"
   ]
  },
  {
   "cell_type": "markdown",
   "metadata": {},
   "source": [
    "### Store Part I results into DataFrame\n",
    "* Load the csv exported in Part I to a DataFrame"
   ]
  },
  {
   "cell_type": "code",
   "execution_count": 9,
   "metadata": {},
   "outputs": [
    {
     "data": {
      "text/html": [
       "<div>\n",
       "<style scoped>\n",
       "    .dataframe tbody tr th:only-of-type {\n",
       "        vertical-align: middle;\n",
       "    }\n",
       "\n",
       "    .dataframe tbody tr th {\n",
       "        vertical-align: top;\n",
       "    }\n",
       "\n",
       "    .dataframe thead th {\n",
       "        text-align: right;\n",
       "    }\n",
       "</style>\n",
       "<table border=\"1\" class=\"dataframe\">\n",
       "  <thead>\n",
       "    <tr style=\"text-align: right;\">\n",
       "      <th></th>\n",
       "      <th>City_ID</th>\n",
       "      <th>City</th>\n",
       "      <th>Cloudiness</th>\n",
       "      <th>Country</th>\n",
       "      <th>Date</th>\n",
       "      <th>Humidity</th>\n",
       "      <th>Lat</th>\n",
       "      <th>Lng</th>\n",
       "      <th>Max Temp</th>\n",
       "      <th>Wind Speed</th>\n",
       "    </tr>\n",
       "  </thead>\n",
       "  <tbody>\n",
       "    <tr>\n",
       "      <th>0</th>\n",
       "      <td>0</td>\n",
       "      <td>Lalmohan</td>\n",
       "      <td>74</td>\n",
       "      <td>BD</td>\n",
       "      <td>2020-01-28 23:18:02</td>\n",
       "      <td>56</td>\n",
       "      <td>22.34</td>\n",
       "      <td>90.74</td>\n",
       "      <td>71.31</td>\n",
       "      <td>3.09</td>\n",
       "    </tr>\n",
       "    <tr>\n",
       "      <th>1</th>\n",
       "      <td>1</td>\n",
       "      <td>Pochutla</td>\n",
       "      <td>20</td>\n",
       "      <td>MX</td>\n",
       "      <td>2020-01-28 23:18:03</td>\n",
       "      <td>74</td>\n",
       "      <td>15.74</td>\n",
       "      <td>-96.47</td>\n",
       "      <td>78.80</td>\n",
       "      <td>11.39</td>\n",
       "    </tr>\n",
       "    <tr>\n",
       "      <th>2</th>\n",
       "      <td>2</td>\n",
       "      <td>Mataura</td>\n",
       "      <td>96</td>\n",
       "      <td>NZ</td>\n",
       "      <td>2020-01-28 23:18:03</td>\n",
       "      <td>89</td>\n",
       "      <td>-46.19</td>\n",
       "      <td>168.86</td>\n",
       "      <td>55.00</td>\n",
       "      <td>11.99</td>\n",
       "    </tr>\n",
       "    <tr>\n",
       "      <th>3</th>\n",
       "      <td>3</td>\n",
       "      <td>Thompson</td>\n",
       "      <td>90</td>\n",
       "      <td>CA</td>\n",
       "      <td>2020-01-28 23:15:49</td>\n",
       "      <td>85</td>\n",
       "      <td>55.74</td>\n",
       "      <td>-97.86</td>\n",
       "      <td>10.40</td>\n",
       "      <td>5.82</td>\n",
       "    </tr>\n",
       "    <tr>\n",
       "      <th>4</th>\n",
       "      <td>4</td>\n",
       "      <td>Severo-Kuril'sk</td>\n",
       "      <td>100</td>\n",
       "      <td>RU</td>\n",
       "      <td>2020-01-28 23:18:03</td>\n",
       "      <td>85</td>\n",
       "      <td>50.68</td>\n",
       "      <td>156.12</td>\n",
       "      <td>25.90</td>\n",
       "      <td>3.33</td>\n",
       "    </tr>\n",
       "  </tbody>\n",
       "</table>\n",
       "</div>"
      ],
      "text/plain": [
       "   City_ID             City  Cloudiness Country                 Date  \\\n",
       "0        0         Lalmohan          74      BD  2020-01-28 23:18:02   \n",
       "1        1         Pochutla          20      MX  2020-01-28 23:18:03   \n",
       "2        2          Mataura          96      NZ  2020-01-28 23:18:03   \n",
       "3        3         Thompson          90      CA  2020-01-28 23:15:49   \n",
       "4        4  Severo-Kuril'sk         100      RU  2020-01-28 23:18:03   \n",
       "\n",
       "   Humidity    Lat     Lng  Max Temp  Wind Speed  \n",
       "0        56  22.34   90.74     71.31        3.09  \n",
       "1        74  15.74  -96.47     78.80       11.39  \n",
       "2        89 -46.19  168.86     55.00       11.99  \n",
       "3        85  55.74  -97.86     10.40        5.82  \n",
       "4        85  50.68  156.12     25.90        3.33  "
      ]
     },
     "execution_count": 9,
     "metadata": {},
     "output_type": "execute_result"
    }
   ],
   "source": [
    "cities_df = pd.read_csv(\"cities.csv\")\n",
    "cities_df.head()"
   ]
  },
  {
   "cell_type": "markdown",
   "metadata": {},
   "source": [
    "# Humidity Heatmap\n",
    "* Configure gmaps.\n",
    "* Use the Lat and Lng as locations and Humidity as the weight.\n",
    "* Add Heatmap layer to map."
   ]
  },
  {
   "cell_type": "code",
   "execution_count": 10,
   "metadata": {},
   "outputs": [
    {
     "data": {
      "application/vnd.jupyter.widget-view+json": {
       "model_id": "234a9e2e3aaf45889245282b0a89b60b",
       "version_major": 2,
       "version_minor": 0
      },
      "text/plain": [
       "Figure(layout=FigureLayout(height='420px'))"
      ]
     },
     "metadata": {},
     "output_type": "display_data"
    }
   ],
   "source": [
    "locations = cities_df[['Lat', 'Lng']]\n",
    "humidity = cities_df['Humidity']\n",
    "fig = gmaps.figure(center=(20.0, 0.0), zoom_level=2)\n",
    "fig.add_layer(gmaps.heatmap_layer(locations, weights=humidity, point_radius = 10))\n",
    "fig"
   ]
  },
  {
   "cell_type": "markdown",
   "metadata": {},
   "source": [
    "### Create new DataFrame fitting weather criteria\n",
    "* Narrow down the cities to fit weather conditions.\n",
    "* Drop any rows will null values."
   ]
  },
  {
   "cell_type": "code",
   "execution_count": 11,
   "metadata": {},
   "outputs": [
    {
     "data": {
      "text/html": [
       "<div>\n",
       "<style scoped>\n",
       "    .dataframe tbody tr th:only-of-type {\n",
       "        vertical-align: middle;\n",
       "    }\n",
       "\n",
       "    .dataframe tbody tr th {\n",
       "        vertical-align: top;\n",
       "    }\n",
       "\n",
       "    .dataframe thead th {\n",
       "        text-align: right;\n",
       "    }\n",
       "</style>\n",
       "<table border=\"1\" class=\"dataframe\">\n",
       "  <thead>\n",
       "    <tr style=\"text-align: right;\">\n",
       "      <th></th>\n",
       "      <th>City_ID</th>\n",
       "      <th>City</th>\n",
       "      <th>Cloudiness</th>\n",
       "      <th>Country</th>\n",
       "      <th>Date</th>\n",
       "      <th>Humidity</th>\n",
       "      <th>Lat</th>\n",
       "      <th>Lng</th>\n",
       "      <th>Max Temp</th>\n",
       "      <th>Wind Speed</th>\n",
       "    </tr>\n",
       "  </thead>\n",
       "  <tbody>\n",
       "    <tr>\n",
       "      <th>0</th>\n",
       "      <td>0</td>\n",
       "      <td>Lalmohan</td>\n",
       "      <td>74</td>\n",
       "      <td>BD</td>\n",
       "      <td>2020-01-28 23:18:02</td>\n",
       "      <td>56</td>\n",
       "      <td>22.34</td>\n",
       "      <td>90.74</td>\n",
       "      <td>71.31</td>\n",
       "      <td>3.09</td>\n",
       "    </tr>\n",
       "    <tr>\n",
       "      <th>1</th>\n",
       "      <td>1</td>\n",
       "      <td>Pochutla</td>\n",
       "      <td>20</td>\n",
       "      <td>MX</td>\n",
       "      <td>2020-01-28 23:18:03</td>\n",
       "      <td>74</td>\n",
       "      <td>15.74</td>\n",
       "      <td>-96.47</td>\n",
       "      <td>78.80</td>\n",
       "      <td>11.39</td>\n",
       "    </tr>\n",
       "    <tr>\n",
       "      <th>6</th>\n",
       "      <td>6</td>\n",
       "      <td>Rikitea</td>\n",
       "      <td>100</td>\n",
       "      <td>PF</td>\n",
       "      <td>2020-01-28 23:18:03</td>\n",
       "      <td>78</td>\n",
       "      <td>-23.12</td>\n",
       "      <td>-134.97</td>\n",
       "      <td>79.79</td>\n",
       "      <td>6.22</td>\n",
       "    </tr>\n",
       "    <tr>\n",
       "      <th>8</th>\n",
       "      <td>8</td>\n",
       "      <td>Hilo</td>\n",
       "      <td>20</td>\n",
       "      <td>US</td>\n",
       "      <td>2020-01-28 23:18:03</td>\n",
       "      <td>57</td>\n",
       "      <td>19.73</td>\n",
       "      <td>-155.09</td>\n",
       "      <td>78.80</td>\n",
       "      <td>5.82</td>\n",
       "    </tr>\n",
       "    <tr>\n",
       "      <th>13</th>\n",
       "      <td>13</td>\n",
       "      <td>Talara</td>\n",
       "      <td>0</td>\n",
       "      <td>PE</td>\n",
       "      <td>2020-01-28 23:18:04</td>\n",
       "      <td>87</td>\n",
       "      <td>-4.58</td>\n",
       "      <td>-81.27</td>\n",
       "      <td>74.30</td>\n",
       "      <td>9.80</td>\n",
       "    </tr>\n",
       "  </tbody>\n",
       "</table>\n",
       "</div>"
      ],
      "text/plain": [
       "    City_ID      City  Cloudiness Country                 Date  Humidity  \\\n",
       "0         0  Lalmohan          74      BD  2020-01-28 23:18:02        56   \n",
       "1         1  Pochutla          20      MX  2020-01-28 23:18:03        74   \n",
       "6         6   Rikitea         100      PF  2020-01-28 23:18:03        78   \n",
       "8         8      Hilo          20      US  2020-01-28 23:18:03        57   \n",
       "13       13    Talara           0      PE  2020-01-28 23:18:04        87   \n",
       "\n",
       "      Lat     Lng  Max Temp  Wind Speed  \n",
       "0   22.34   90.74     71.31        3.09  \n",
       "1   15.74  -96.47     78.80       11.39  \n",
       "6  -23.12 -134.97     79.79        6.22  \n",
       "8   19.73 -155.09     78.80        5.82  \n",
       "13  -4.58  -81.27     74.30        9.80  "
      ]
     },
     "execution_count": 11,
     "metadata": {},
     "output_type": "execute_result"
    }
   ],
   "source": [
    "#* A max temperature lower than 80 degrees but higher than 70.\n",
    "#* Wind speed less than 10 mph.\n",
    "#* Zero cloudiness.\n",
    "cities_df=cities_df.dropna(how=\"all\")\n",
    "new_df1 = cities_df[cities_df[\"Wind Speed\"] < 10]\n",
    "new_df2 = new_df1[new_df1[\"Cloudiness\"] == 0]\n",
    "new_df3 = cities_df[cities_df[\"Max Temp\"] < 80]\n",
    "fav_df = new_df3[new_df3[\"Max Temp\"] > 70]\n",
    "fav_df.head()"
   ]
  },
  {
   "cell_type": "markdown",
   "metadata": {},
   "source": [
    "### Hotel Map\n",
    "* Store into variable named `hotel_df`.\n",
    "* Add a \"Hotel Name\" column to the DataFrame.\n",
    "* Set parameters to search for hotels with 5000 meters.\n",
    "* Hit the Google Places API for each city's coordinates.\n",
    "* Store the first Hotel result into the DataFrame.\n",
    "* Plot markers on top of the heatmap."
   ]
  },
  {
   "cell_type": "code",
   "execution_count": 12,
   "metadata": {},
   "outputs": [],
   "source": [
    "hotel_df = fav_df\n",
    "HotelName = []\n",
    "HotelAddress=[]\n",
    "\n",
    "def Hoteldetails(Lat,Lng):\n",
    "    TgtRadius = 5000\n",
    "    TgtType = \"Hotel\"\n",
    "    TgtCoordinates =  Lat + \" , \" + Lng \n",
    "    params = {\n",
    "    \"location\": TgtCoordinates,\n",
    "    \"radius\": TgtRadius,\n",
    "    \"type\": TgtType,\n",
    "    \"key\": g_key\n",
    "    }\n",
    "    base_url = \"https://maps.googleapis.com/maps/api/place/nearbysearch/json\"\n",
    "    resp = requests.get(base_url, params=params)\n",
    "    rtext = json.loads(resp.text)\n",
    "    response = json_normalize(rtext)\n",
    "    ResultedHotels=json_normalize(response[\"results\"][0])\n",
    "    HotelName.append(ResultedHotels[\"name\"][1])\n",
    "    HotelAddress.append(ResultedHotels[\"vicinity\"][1])"
   ]
  },
  {
   "cell_type": "code",
   "execution_count": null,
   "metadata": {},
   "outputs": [],
   "source": [
    "for index, row in fav_df.iterrows():\n",
    "    Hoteldetails(str(row[\"Lat\"]),str(row[\"Lng\"]))"
   ]
  },
  {
   "cell_type": "code",
   "execution_count": null,
   "metadata": {},
   "outputs": [],
   "source": [
    "HotelName,HotelAddress"
   ]
  },
  {
   "cell_type": "code",
   "execution_count": null,
   "metadata": {},
   "outputs": [],
   "source": [
    "hotel_df.insert(2, \"Hotel Name\", HotelName, True) \n",
    "hotel_df.insert(3, \"Hotel Address\", HotelAddress, True)"
   ]
  },
  {
   "cell_type": "code",
   "execution_count": 13,
   "metadata": {},
   "outputs": [
    {
     "data": {
      "application/vnd.jupyter.widget-view+json": {
       "model_id": "d1eb72d5010b454394cfc9befc447137",
       "version_major": 2,
       "version_minor": 0
      },
      "text/plain": [
       "Figure(layout=FigureLayout(height='420px'))"
      ]
     },
     "metadata": {},
     "output_type": "display_data"
    }
   ],
   "source": [
    "# Create a Hotels\n",
    "# Store 'Lat' and 'Lng' into  locations \n",
    "hlocations = hotel_df[[\"Lat\", \"Lng\"]].astype(float)\n",
    "HumidityValue = cities_df[\"Humidity\"].astype(float)\n",
    "maxHumidity=cities_df[\"Humidity\"].max()\n",
    "\n",
    "fig2 = gmaps.figure(center=(20.0, 0.0), zoom_level=2)\n",
    "fig2.add_layer(gmaps.heatmap_layer(locations, weights=HumidityValue, dissipating=False, max_intensity=maxHumidity, point_radius = 2))\n",
    "fig2"
   ]
  },
  {
   "cell_type": "code",
   "execution_count": null,
   "metadata": {},
   "outputs": [],
   "source": [
    "# NOTE: Do not change any of the code in this cell\n",
    "\n",
    "# Using the template add the hotel marks to the heatmap\n",
    "info_box_template = \"\"\"\n",
    "<dl>\n",
    "<dt>Name</dt><dd>{Hotel Name}</dd>\n",
    "<dt>City</dt><dd>{City}</dd>\n",
    "<dt>Country</dt><dd>{Country}</dd>\n",
    "</dl>\n",
    "\"\"\"\n",
    "# Store the DataFrame Row\n",
    "# NOTE: be sure to update with your DataFrame name\n",
    "hotel_info = [info_box_template.format(**row) for index, row in narrowed_city_df.iterrows()]\n",
    "locations = hotel_df[[\"Lat\", \"Lng\"]]"
   ]
  },
  {
   "cell_type": "code",
   "execution_count": null,
   "metadata": {},
   "outputs": [],
   "source": [
    "# Add marker layer ontop of heat map\n",
    "\n",
    "\n",
    "# Display Map"
   ]
  }
 ],
 "metadata": {
  "kernelspec": {
   "display_name": "Python 3",
   "language": "python",
   "name": "python3"
  },
  "language_info": {
   "codemirror_mode": {
    "name": "ipython",
    "version": 3
   },
   "file_extension": ".py",
   "mimetype": "text/x-python",
   "name": "python",
   "nbconvert_exporter": "python",
   "pygments_lexer": "ipython3",
   "version": "3.6.9"
  },
  "latex_envs": {
   "LaTeX_envs_menu_present": true,
   "autoclose": false,
   "autocomplete": true,
   "bibliofile": "biblio.bib",
   "cite_by": "apalike",
   "current_citInitial": 1,
   "eqLabelWithNumbers": true,
   "eqNumInitial": 1,
   "hotkeys": {
    "equation": "Ctrl-E",
    "itemize": "Ctrl-I"
   },
   "labels_anchors": false,
   "latex_user_defs": false,
   "report_style_numbering": false,
   "user_envs_cfg": false
  }
 },
 "nbformat": 4,
 "nbformat_minor": 2
}
